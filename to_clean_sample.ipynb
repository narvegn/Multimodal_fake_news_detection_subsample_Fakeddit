{
 "cells": [
  {
   "cell_type": "code",
   "execution_count": 2,
   "metadata": {},
   "outputs": [],
   "source": [
    "import pandas as pd\n",
    "import matplotlib.pyplot as plt"
   ]
  },
  {
   "cell_type": "markdown",
   "metadata": {},
   "source": [
    "Reading the files with pandas read_csv. Separator is \"\\t\" as they are tsv-files. "
   ]
  },
  {
   "cell_type": "code",
   "execution_count": 3,
   "metadata": {},
   "outputs": [],
   "source": [
    "df_train_all = pd.read_csv(\"data/train/multimodal_train.tsv\", sep=\"\\t\")\n",
    "df_validate_all = pd.read_csv(\"data/validate/multimodal_validate.tsv\", sep=\"\\t\")\n",
    "df_test_all = pd.read_csv(\"data/test/multimodal_test_public.tsv\", sep=\"\\t\")"
   ]
  },
  {
   "cell_type": "code",
   "execution_count": 4,
   "metadata": {},
   "outputs": [
    {
     "data": {
      "text/plain": [
       "((564000, 16), (59319, 16), (59342, 16))"
      ]
     },
     "execution_count": 4,
     "metadata": {},
     "output_type": "execute_result"
    }
   ],
   "source": [
    "df_train_all.shape, df_test_all.shape, df_validate_all.shape"
   ]
  },
  {
   "cell_type": "code",
   "execution_count": 5,
   "metadata": {},
   "outputs": [
    {
     "data": {
      "text/html": [
       "<div>\n",
       "<style scoped>\n",
       "    .dataframe tbody tr th:only-of-type {\n",
       "        vertical-align: middle;\n",
       "    }\n",
       "\n",
       "    .dataframe tbody tr th {\n",
       "        vertical-align: top;\n",
       "    }\n",
       "\n",
       "    .dataframe thead th {\n",
       "        text-align: right;\n",
       "    }\n",
       "</style>\n",
       "<table border=\"1\" class=\"dataframe\">\n",
       "  <thead>\n",
       "    <tr style=\"text-align: right;\">\n",
       "      <th></th>\n",
       "      <th>author</th>\n",
       "      <th>clean_title</th>\n",
       "      <th>created_utc</th>\n",
       "      <th>domain</th>\n",
       "      <th>hasImage</th>\n",
       "      <th>id</th>\n",
       "      <th>image_url</th>\n",
       "      <th>linked_submission_id</th>\n",
       "      <th>num_comments</th>\n",
       "      <th>score</th>\n",
       "      <th>subreddit</th>\n",
       "      <th>title</th>\n",
       "      <th>upvote_ratio</th>\n",
       "      <th>2_way_label</th>\n",
       "      <th>3_way_label</th>\n",
       "      <th>6_way_label</th>\n",
       "    </tr>\n",
       "  </thead>\n",
       "  <tbody>\n",
       "    <tr>\n",
       "      <th>0</th>\n",
       "      <td>Alexithymia</td>\n",
       "      <td>my walgreens offbrand mucinex was engraved wit...</td>\n",
       "      <td>1.551641e+09</td>\n",
       "      <td>i.imgur.com</td>\n",
       "      <td>True</td>\n",
       "      <td>awxhir</td>\n",
       "      <td>https://external-preview.redd.it/WylDbZrnbvZdB...</td>\n",
       "      <td>NaN</td>\n",
       "      <td>2.0</td>\n",
       "      <td>12</td>\n",
       "      <td>mildlyinteresting</td>\n",
       "      <td>My Walgreens offbrand Mucinex was engraved wit...</td>\n",
       "      <td>0.84</td>\n",
       "      <td>1</td>\n",
       "      <td>0</td>\n",
       "      <td>0</td>\n",
       "    </tr>\n",
       "    <tr>\n",
       "      <th>1</th>\n",
       "      <td>VIDCAs17</td>\n",
       "      <td>this concerned sink with a tiny hat</td>\n",
       "      <td>1.534727e+09</td>\n",
       "      <td>i.redd.it</td>\n",
       "      <td>True</td>\n",
       "      <td>98pbid</td>\n",
       "      <td>https://preview.redd.it/wsfx0gp0f5h11.jpg?widt...</td>\n",
       "      <td>NaN</td>\n",
       "      <td>2.0</td>\n",
       "      <td>119</td>\n",
       "      <td>pareidolia</td>\n",
       "      <td>This concerned sink with a tiny hat</td>\n",
       "      <td>0.99</td>\n",
       "      <td>0</td>\n",
       "      <td>2</td>\n",
       "      <td>2</td>\n",
       "    </tr>\n",
       "    <tr>\n",
       "      <th>2</th>\n",
       "      <td>prometheus1123</td>\n",
       "      <td>hackers leak emails from uae ambassador to us</td>\n",
       "      <td>1.496511e+09</td>\n",
       "      <td>aljazeera.com</td>\n",
       "      <td>True</td>\n",
       "      <td>6f2cy5</td>\n",
       "      <td>https://external-preview.redd.it/6fNhdbc6K1vFA...</td>\n",
       "      <td>NaN</td>\n",
       "      <td>1.0</td>\n",
       "      <td>44</td>\n",
       "      <td>neutralnews</td>\n",
       "      <td>Hackers leak emails from UAE ambassador to US</td>\n",
       "      <td>0.92</td>\n",
       "      <td>1</td>\n",
       "      <td>0</td>\n",
       "      <td>0</td>\n",
       "    </tr>\n",
       "    <tr>\n",
       "      <th>3</th>\n",
       "      <td>NaN</td>\n",
       "      <td>puppy taking in the view</td>\n",
       "      <td>1.471341e+09</td>\n",
       "      <td>i.imgur.com</td>\n",
       "      <td>True</td>\n",
       "      <td>4xypkv</td>\n",
       "      <td>https://external-preview.redd.it/HLtVNhTR6wtYt...</td>\n",
       "      <td>NaN</td>\n",
       "      <td>26.0</td>\n",
       "      <td>250</td>\n",
       "      <td>photoshopbattles</td>\n",
       "      <td>PsBattle: Puppy taking in the view</td>\n",
       "      <td>0.95</td>\n",
       "      <td>1</td>\n",
       "      <td>0</td>\n",
       "      <td>0</td>\n",
       "    </tr>\n",
       "    <tr>\n",
       "      <th>4</th>\n",
       "      <td>3rikR3ith</td>\n",
       "      <td>i found a face in my sheet music too</td>\n",
       "      <td>1.525318e+09</td>\n",
       "      <td>i.redd.it</td>\n",
       "      <td>True</td>\n",
       "      <td>8gnet9</td>\n",
       "      <td>https://preview.redd.it/ri7ut2wn8kv01.jpg?widt...</td>\n",
       "      <td>NaN</td>\n",
       "      <td>2.0</td>\n",
       "      <td>13</td>\n",
       "      <td>pareidolia</td>\n",
       "      <td>I found a face in my sheet music too!</td>\n",
       "      <td>0.84</td>\n",
       "      <td>0</td>\n",
       "      <td>2</td>\n",
       "      <td>2</td>\n",
       "    </tr>\n",
       "  </tbody>\n",
       "</table>\n",
       "</div>"
      ],
      "text/plain": [
       "           author                                        clean_title  \\\n",
       "0     Alexithymia  my walgreens offbrand mucinex was engraved wit...   \n",
       "1        VIDCAs17                this concerned sink with a tiny hat   \n",
       "2  prometheus1123      hackers leak emails from uae ambassador to us   \n",
       "3             NaN                           puppy taking in the view   \n",
       "4       3rikR3ith               i found a face in my sheet music too   \n",
       "\n",
       "    created_utc         domain  hasImage      id  \\\n",
       "0  1.551641e+09    i.imgur.com      True  awxhir   \n",
       "1  1.534727e+09      i.redd.it      True  98pbid   \n",
       "2  1.496511e+09  aljazeera.com      True  6f2cy5   \n",
       "3  1.471341e+09    i.imgur.com      True  4xypkv   \n",
       "4  1.525318e+09      i.redd.it      True  8gnet9   \n",
       "\n",
       "                                           image_url linked_submission_id  \\\n",
       "0  https://external-preview.redd.it/WylDbZrnbvZdB...                  NaN   \n",
       "1  https://preview.redd.it/wsfx0gp0f5h11.jpg?widt...                  NaN   \n",
       "2  https://external-preview.redd.it/6fNhdbc6K1vFA...                  NaN   \n",
       "3  https://external-preview.redd.it/HLtVNhTR6wtYt...                  NaN   \n",
       "4  https://preview.redd.it/ri7ut2wn8kv01.jpg?widt...                  NaN   \n",
       "\n",
       "   num_comments  score          subreddit  \\\n",
       "0           2.0     12  mildlyinteresting   \n",
       "1           2.0    119         pareidolia   \n",
       "2           1.0     44        neutralnews   \n",
       "3          26.0    250   photoshopbattles   \n",
       "4           2.0     13         pareidolia   \n",
       "\n",
       "                                               title  upvote_ratio  \\\n",
       "0  My Walgreens offbrand Mucinex was engraved wit...          0.84   \n",
       "1                This concerned sink with a tiny hat          0.99   \n",
       "2      Hackers leak emails from UAE ambassador to US          0.92   \n",
       "3                 PsBattle: Puppy taking in the view          0.95   \n",
       "4              I found a face in my sheet music too!          0.84   \n",
       "\n",
       "   2_way_label  3_way_label  6_way_label  \n",
       "0            1            0            0  \n",
       "1            0            2            2  \n",
       "2            1            0            0  \n",
       "3            1            0            0  \n",
       "4            0            2            2  "
      ]
     },
     "execution_count": 5,
     "metadata": {},
     "output_type": "execute_result"
    }
   ],
   "source": [
    "df_train_all.head()"
   ]
  },
  {
   "cell_type": "markdown",
   "metadata": {},
   "source": [
    "Showing distribution of each class for all sets "
   ]
  },
  {
   "cell_type": "code",
   "execution_count": 5,
   "metadata": {},
   "outputs": [
    {
     "data": {
      "image/png": "[encoded data removed]",
      "text/plain": [
       "<Figure size 432x288 with 1 Axes>"
      ]
     },
     "metadata": {
      "needs_background": "light"
     },
     "output_type": "display_data"
    }
   ],
   "source": [
    "plt.hist(df_train_all[\"6_way_label\"])\n",
    "plt.title(\"Distribution of each class in training set\")\n",
    "plt.show()"
   ]
  },
  {
   "cell_type": "code",
   "execution_count": 6,
   "metadata": {},
   "outputs": [
    {
     "data": {
      "image/png": "[encoded data removed]",
      "text/plain": [
       "<Figure size 432x288 with 1 Axes>"
      ]
     },
     "metadata": {
      "needs_background": "light"
     },
     "output_type": "display_data"
    }
   ],
   "source": [
    "plt.hist(df_test_all[\"6_way_label\"])\n",
    "plt.title(\"Distribution of each class in testing set\")\n",
    "plt.show()"
   ]
  },
  {
   "cell_type": "code",
   "execution_count": 7,
   "metadata": {},
   "outputs": [
    {
     "data": {
      "image/png": "[encoded data removed]",
      "text/plain": [
       "<Figure size 432x288 with 1 Axes>"
      ]
     },
     "metadata": {
      "needs_background": "light"
     },
     "output_type": "display_data"
    }
   ],
   "source": [
    "plt.hist(df_validate_all[\"6_way_label\"])\n",
    "plt.title(\"Distribution of each class in validation set\")\n",
    "plt.show()"
   ]
  },
  {
   "cell_type": "markdown",
   "metadata": {},
   "source": [
    "As seen above, all sets are almost equally distributed, but some class are more represented than others. "
   ]
  },
  {
   "cell_type": "markdown",
   "metadata": {},
   "source": [
    "Removing all rows where domain is not known, as there were problems loading many of these images, since some webpages didn't exist anymore. "
   ]
  },
  {
   "cell_type": "code",
   "execution_count": 8,
   "metadata": {},
   "outputs": [],
   "source": [
    "df_train_all = df_train_all[df_train_all[\"domain\"].notna()]\n",
    "df_test_all = df_test_all[df_test_all[\"domain\"].notna()]\n",
    "df_validate_all = df_validate_all[df_validate_all[\"domain\"].notna()]"
   ]
  },
  {
   "cell_type": "code",
   "execution_count": 9,
   "metadata": {},
   "outputs": [
    {
     "data": {
      "text/plain": [
       "((396143, 16), (41532, 16), (41847, 16))"
      ]
     },
     "execution_count": 9,
     "metadata": {},
     "output_type": "execute_result"
    }
   ],
   "source": [
    "df_train_all.shape, df_validate_all.shape, df_test_all.shape"
   ]
  },
  {
   "cell_type": "markdown",
   "metadata": {},
   "source": [
    "Distribution after cleaning: "
   ]
  },
  {
   "cell_type": "code",
   "execution_count": 11,
   "metadata": {},
   "outputs": [
    {
     "data": {
      "image/png": "[encoded data removed]",
      "text/plain": [
       "<Figure size 432x288 with 1 Axes>"
      ]
     },
     "metadata": {
      "needs_background": "light"
     },
     "output_type": "display_data"
    }
   ],
   "source": [
    "plt.hist(df_train_all[\"6_way_label\"])\n",
    "plt.title(\"Distribution of each class in training set\")\n",
    "plt.show()"
   ]
  },
  {
   "cell_type": "markdown",
   "metadata": {},
   "source": [
    "As seen above, all rows containing class 4 are removed. Meaning all class-4-images have no domain. "
   ]
  },
  {
   "cell_type": "markdown",
   "metadata": {},
   "source": [
    "Sampling 10% of random rows from each dataframe, to minimize storage issues with images. "
   ]
  },
  {
   "cell_type": "code",
   "execution_count": 6,
   "metadata": {},
   "outputs": [],
   "source": [
    "df_train_sample = df_train_all.sample(frac=0.1)\n",
    "df_test_sample = df_test_all.sample(frac=0.1)\n",
    "df_validate_sample = df_validate_all.sample(frac=0.2)"
   ]
  },
  {
   "cell_type": "code",
   "execution_count": 6,
   "metadata": {},
   "outputs": [
    {
     "data": {
      "text/plain": [
       "((39614, 16), (4185, 16), (4153, 16))"
      ]
     },
     "execution_count": 6,
     "metadata": {},
     "output_type": "execute_result"
    }
   ],
   "source": [
    "df_train_sample.shape, df_test_sample.shape, df_validate_sample.shape"
   ]
  },
  {
   "cell_type": "markdown",
   "metadata": {},
   "source": [
    "Looking at the head of dataframe "
   ]
  },
  {
   "cell_type": "code",
   "execution_count": 7,
   "metadata": {},
   "outputs": [
    {
     "data": {
      "text/html": [
       "<div>\n",
       "<style scoped>\n",
       "    .dataframe tbody tr th:only-of-type {\n",
       "        vertical-align: middle;\n",
       "    }\n",
       "\n",
       "    .dataframe tbody tr th {\n",
       "        vertical-align: top;\n",
       "    }\n",
       "\n",
       "    .dataframe thead th {\n",
       "        text-align: right;\n",
       "    }\n",
       "</style>\n",
       "<table border=\"1\" class=\"dataframe\">\n",
       "  <thead>\n",
       "    <tr style=\"text-align: right;\">\n",
       "      <th></th>\n",
       "      <th>author</th>\n",
       "      <th>clean_title</th>\n",
       "      <th>created_utc</th>\n",
       "      <th>domain</th>\n",
       "      <th>hasImage</th>\n",
       "      <th>id</th>\n",
       "      <th>image_url</th>\n",
       "      <th>linked_submission_id</th>\n",
       "      <th>num_comments</th>\n",
       "      <th>score</th>\n",
       "      <th>subreddit</th>\n",
       "      <th>title</th>\n",
       "      <th>upvote_ratio</th>\n",
       "      <th>2_way_label</th>\n",
       "      <th>3_way_label</th>\n",
       "      <th>6_way_label</th>\n",
       "    </tr>\n",
       "  </thead>\n",
       "  <tbody>\n",
       "    <tr>\n",
       "      <th>266243</th>\n",
       "      <td>Maxicrisp</td>\n",
       "      <td>driver being perfectly aligned with his van</td>\n",
       "      <td>1.551940e+09</td>\n",
       "      <td>i.redd.it</td>\n",
       "      <td>True</td>\n",
       "      <td>ay9iqu</td>\n",
       "      <td>https://preview.redd.it/p5lqmpsy4nk21.jpg?widt...</td>\n",
       "      <td>NaN</td>\n",
       "      <td>4.0</td>\n",
       "      <td>17</td>\n",
       "      <td>mildlyinteresting</td>\n",
       "      <td>Driver being perfectly aligned with his van</td>\n",
       "      <td>0.81</td>\n",
       "      <td>1</td>\n",
       "      <td>0</td>\n",
       "      <td>0</td>\n",
       "    </tr>\n",
       "    <tr>\n",
       "      <th>509043</th>\n",
       "      <td>nyshtick</td>\n",
       "      <td>israeli finance minister yair lapid economy mi...</td>\n",
       "      <td>1.401468e+09</td>\n",
       "      <td>i.imgur.com</td>\n",
       "      <td>True</td>\n",
       "      <td>26vxrl</td>\n",
       "      <td>https://external-preview.redd.it/5uMtA60MQdZNw...</td>\n",
       "      <td>NaN</td>\n",
       "      <td>18.0</td>\n",
       "      <td>31</td>\n",
       "      <td>propagandaposters</td>\n",
       "      <td>Israeli Finance Minister Yair Lapid &amp; Economy ...</td>\n",
       "      <td>0.75</td>\n",
       "      <td>0</td>\n",
       "      <td>1</td>\n",
       "      <td>5</td>\n",
       "    </tr>\n",
       "    <tr>\n",
       "      <th>17398</th>\n",
       "      <td>Vequition7545</td>\n",
       "      <td>stairs going past a ledge</td>\n",
       "      <td>1.550865e+09</td>\n",
       "      <td>i.imgur.com</td>\n",
       "      <td>True</td>\n",
       "      <td>atm1lr</td>\n",
       "      <td>https://external-preview.redd.it/y7f5Y4SAv4RQ8...</td>\n",
       "      <td>NaN</td>\n",
       "      <td>4.0</td>\n",
       "      <td>60</td>\n",
       "      <td>confusing_perspective</td>\n",
       "      <td>Stairs going past a ledge?</td>\n",
       "      <td>0.88</td>\n",
       "      <td>0</td>\n",
       "      <td>2</td>\n",
       "      <td>2</td>\n",
       "    </tr>\n",
       "    <tr>\n",
       "      <th>207324</th>\n",
       "      <td>aresef</td>\n",
       "      <td>sexist media keeps only referring to woman as ...</td>\n",
       "      <td>1.551726e+09</td>\n",
       "      <td>theonion.com</td>\n",
       "      <td>True</td>\n",
       "      <td>axawyj</td>\n",
       "      <td>https://external-preview.redd.it/K-WpafewV_E3b...</td>\n",
       "      <td>NaN</td>\n",
       "      <td>0.0</td>\n",
       "      <td>141</td>\n",
       "      <td>theonion</td>\n",
       "      <td>Sexist Media Keeps Only Referring To Woman As ...</td>\n",
       "      <td>0.98</td>\n",
       "      <td>0</td>\n",
       "      <td>2</td>\n",
       "      <td>1</td>\n",
       "    </tr>\n",
       "    <tr>\n",
       "      <th>145284</th>\n",
       "      <td>NaN</td>\n",
       "      <td>the disillusioned my fathers ghost and the ame...</td>\n",
       "      <td>1.495721e+09</td>\n",
       "      <td>i.imgur.com</td>\n",
       "      <td>True</td>\n",
       "      <td>6d9r6s</td>\n",
       "      <td>https://external-preview.redd.it/i5Jm1gH69oqvf...</td>\n",
       "      <td>NaN</td>\n",
       "      <td>0.0</td>\n",
       "      <td>4</td>\n",
       "      <td>fakealbumcovers</td>\n",
       "      <td>The Disillusioned - My Fathers Ghost and the A...</td>\n",
       "      <td>0.83</td>\n",
       "      <td>0</td>\n",
       "      <td>2</td>\n",
       "      <td>1</td>\n",
       "    </tr>\n",
       "  </tbody>\n",
       "</table>\n",
       "</div>"
      ],
      "text/plain": [
       "               author                                        clean_title  \\\n",
       "266243      Maxicrisp        driver being perfectly aligned with his van   \n",
       "509043       nyshtick  israeli finance minister yair lapid economy mi...   \n",
       "17398   Vequition7545                          stairs going past a ledge   \n",
       "207324         aresef  sexist media keeps only referring to woman as ...   \n",
       "145284            NaN  the disillusioned my fathers ghost and the ame...   \n",
       "\n",
       "         created_utc        domain  hasImage      id  \\\n",
       "266243  1.551940e+09     i.redd.it      True  ay9iqu   \n",
       "509043  1.401468e+09   i.imgur.com      True  26vxrl   \n",
       "17398   1.550865e+09   i.imgur.com      True  atm1lr   \n",
       "207324  1.551726e+09  theonion.com      True  axawyj   \n",
       "145284  1.495721e+09   i.imgur.com      True  6d9r6s   \n",
       "\n",
       "                                                image_url  \\\n",
       "266243  https://preview.redd.it/p5lqmpsy4nk21.jpg?widt...   \n",
       "509043  https://external-preview.redd.it/5uMtA60MQdZNw...   \n",
       "17398   https://external-preview.redd.it/y7f5Y4SAv4RQ8...   \n",
       "207324  https://external-preview.redd.it/K-WpafewV_E3b...   \n",
       "145284  https://external-preview.redd.it/i5Jm1gH69oqvf...   \n",
       "\n",
       "       linked_submission_id  num_comments  score              subreddit  \\\n",
       "266243                  NaN           4.0     17      mildlyinteresting   \n",
       "509043                  NaN          18.0     31      propagandaposters   \n",
       "17398                   NaN           4.0     60  confusing_perspective   \n",
       "207324                  NaN           0.0    141               theonion   \n",
       "145284                  NaN           0.0      4        fakealbumcovers   \n",
       "\n",
       "                                                    title  upvote_ratio  \\\n",
       "266243        Driver being perfectly aligned with his van          0.81   \n",
       "509043  Israeli Finance Minister Yair Lapid & Economy ...          0.75   \n",
       "17398                          Stairs going past a ledge?          0.88   \n",
       "207324  Sexist Media Keeps Only Referring To Woman As ...          0.98   \n",
       "145284  The Disillusioned - My Fathers Ghost and the A...          0.83   \n",
       "\n",
       "        2_way_label  3_way_label  6_way_label  \n",
       "266243            1            0            0  \n",
       "509043            0            1            5  \n",
       "17398             0            2            2  \n",
       "207324            0            2            1  \n",
       "145284            0            2            1  "
      ]
     },
     "execution_count": 7,
     "metadata": {},
     "output_type": "execute_result"
    }
   ],
   "source": [
    "df_train_sample.head()"
   ]
  },
  {
   "cell_type": "markdown",
   "metadata": {},
   "source": [
    "Dropping rows with NaNs for the important features. "
   ]
  },
  {
   "cell_type": "code",
   "execution_count": 8,
   "metadata": {},
   "outputs": [],
   "source": [
    "df_train_sample = df_train_sample.dropna(subset=[\"clean_title\", \"id\", \"image_url\", \"6_way_label\"])\n",
    "df_test_sample = df_test_sample.dropna(subset=[\"clean_title\", \"id\", \"image_url\", \"6_way_label\"])\n",
    "df_validate_sample = df_validate_sample.dropna(subset=[\"clean_title\", \"id\", \"image_url\", \"6_way_label\"])"
   ]
  },
  {
   "cell_type": "code",
   "execution_count": 9,
   "metadata": {},
   "outputs": [
    {
     "data": {
      "text/plain": [
       "((39458, 16), (4173, 16), (4142, 16))"
      ]
     },
     "execution_count": 9,
     "metadata": {},
     "output_type": "execute_result"
    }
   ],
   "source": [
    "df_train_sample.shape, df_test_sample.shape, df_validate_sample.shape"
   ]
  },
  {
   "cell_type": "markdown",
   "metadata": {},
   "source": [
    "As seen above very few rows are containing NaNs. "
   ]
  },
  {
   "cell_type": "markdown",
   "metadata": {},
   "source": [
    "Defining function to extract file extension from image url"
   ]
  },
  {
   "cell_type": "code",
   "execution_count": 9,
   "metadata": {},
   "outputs": [],
   "source": [
    "def get_img_format(img_url):\n",
    "    #Splitting with \"?\", first element, then splitting with \".\" and getting last element, which is file extension. \n",
    "    return img_url.split(\"?\")[0].split(\".\")[-1]"
   ]
  },
  {
   "cell_type": "markdown",
   "metadata": {},
   "source": [
    "Applying on every url, finding all the unique file extensions. "
   ]
  },
  {
   "cell_type": "code",
   "execution_count": 10,
   "metadata": {},
   "outputs": [],
   "source": [
    "file_extension_train = df_train_sample[\"image_url\"].apply(get_img_format)\n",
    "file_extension_test = df_test_sample[\"image_url\"].apply(get_img_format)\n",
    "file_extension_validate = df_validate_sample[\"image_url\"].apply(get_img_format)\n",
    "\n",
    "file_extension_train.unique(), file_extension_test.unique(), file_extension_validate.unique()"
   ]
  },
  {
   "cell_type": "markdown",
   "metadata": {},
   "source": [
    "As seen above, they are jpg, png and gif. But to keep things simple, only urls with jpg extension are extracted as all files will be written with .jpg as suffix. "
   ]
  },
  {
   "cell_type": "code",
   "execution_count": 12,
   "metadata": {},
   "outputs": [],
   "source": [
    "df_train_sample = df_train_sample[file_extension_train == \"jpg\"]\n",
    "df_test_sample = df_test_sample[file_extension_test == \"jpg\"]\n",
    "df_validate_sample = df_validate_sample[file_extension_validate == \"jpg\"]"
   ]
  },
  {
   "cell_type": "code",
   "execution_count": 13,
   "metadata": {},
   "outputs": [
    {
     "data": {
      "text/plain": [
       "((36654, 16), (3884, 16), (3830, 16))"
      ]
     },
     "execution_count": 13,
     "metadata": {},
     "output_type": "execute_result"
    }
   ],
   "source": [
    "df_train_sample.shape, df_test_sample.shape, df_validate_sample.shape"
   ]
  },
  {
   "cell_type": "markdown",
   "metadata": {},
   "source": [
    "As almost all images have jpg-extension, number of rows removed are few. "
   ]
  },
  {
   "cell_type": "markdown",
   "metadata": {},
   "source": [
    "Extracting only necessary columns for classification"
   ]
  },
  {
   "cell_type": "code",
   "execution_count": 14,
   "metadata": {},
   "outputs": [],
   "source": [
    "df_train_sample = df_train_sample.loc[:, [\"clean_title\", \"id\", \"image_url\", \"6_way_label\"]]\n",
    "df_test_sample = df_test_sample.loc[:, [\"clean_title\", \"id\", \"image_url\", \"6_way_label\"]]\n",
    "df_validate_sample = df_validate_sample.loc[:, [\"clean_title\", \"id\", \"image_url\", \"6_way_label\"]]"
   ]
  },
  {
   "cell_type": "markdown",
   "metadata": {},
   "source": [
    "Writing to csv-file, and storing in same directory as tsv-files with full dataset. "
   ]
  },
  {
   "cell_type": "code",
   "execution_count": 15,
   "metadata": {},
   "outputs": [],
   "source": [
    "df_train_sample.to_csv(\"data/train/train_sample\")\n",
    "df_test_sample.to_csv(\"data/test/test_sample\")\n",
    "df_validate_sample.to_csv(\"data/validate/validate_sample\")"
   ]
  }
 ],
 "metadata": {
  "kernelspec": {
   "display_name": "base",
   "language": "python",
   "name": "python3"
  },
  "language_info": {
   "codemirror_mode": {
    "name": "ipython",
    "version": 3
   },
   "file_extension": ".py",
   "mimetype": "text/x-python",
   "name": "python",
   "nbconvert_exporter": "python",
   "pygments_lexer": "ipython3",
   "version": "3.9.12"
  }
 },
 "nbformat": 4,
 "nbformat_minor": 2
}
